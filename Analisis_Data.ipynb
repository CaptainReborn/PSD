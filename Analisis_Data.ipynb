{
 "cells": [
  {
   "cell_type": "markdown",
   "id": "0da1cc43",
   "metadata": {},
   "source": [
    "\n",
    "# 📊 Analisis Data untuk Dashboard Streamlit UAS\n",
    "\n",
    "## 📌 Pendahuluan\n",
    "Notebook ini bertujuan untuk melakukan eksplorasi dan analisis data sebelum ditampilkan dalam **dashboard interaktif** menggunakan **Streamlit**.  \n",
    "Analisis ini mencakup:  \n",
    "- Eksplorasi dataset  \n",
    "- Statistik deskriptif  \n",
    "- Clustering dengan **K-Means**  \n",
    "- Visualisasi data (Histogram, Box Plot, Scatter Plot)  \n",
    "\n",
    "---\n"
   ]
  },
  {
   "cell_type": "code",
   "execution_count": null,
   "id": "d21828b1",
   "metadata": {},
   "outputs": [],
   "source": [
    "\n",
    "import pandas as pd\n",
    "import matplotlib.pyplot as plt\n",
    "import seaborn as sns\n",
    "from sklearn.cluster import KMeans\n",
    "from sklearn.preprocessing import StandardScaler\n",
    "import numpy as np\n",
    "\n",
    "# Konfigurasi tampilan plot\n",
    "sns.set_style(\"darkgrid\")\n",
    "plt.rcParams[\"figure.figsize\"] = (8, 6)\n"
   ]
  },
  {
   "cell_type": "markdown",
   "id": "e69fb0ad",
   "metadata": {},
   "source": [
    "\n",
    "## 📂 Membaca Dataset\n",
    "Dataset yang digunakan dalam analisis ini diunggah dalam format **CSV**.  \n"
   ]
  },
  {
   "cell_type": "code",
   "execution_count": null,
   "id": "a5ebe158",
   "metadata": {},
   "outputs": [],
   "source": [
    "\n",
    "# Baca dataset (Silakan ganti 'dataset.csv' dengan file yang digunakan)\n",
    "file_path = \"dataset.csv\"  # Ganti dengan path dataset Anda\n",
    "\n",
    "try:\n",
    "    data = pd.read_csv(file_path)\n",
    "    print(\"Dataset berhasil dimuat!\")\n",
    "    display(data.head())\n",
    "except Exception as e:\n",
    "    print(f\"Terjadi kesalahan saat membaca dataset: {e}\")\n"
   ]
  },
  {
   "cell_type": "markdown",
   "id": "4ed304d5",
   "metadata": {},
   "source": [
    "\n",
    "## 🔍 Eksplorasi Data\n",
    "Melihat informasi dasar dari dataset untuk memahami struktur dan kualitas data.  \n"
   ]
  },
  {
   "cell_type": "code",
   "execution_count": null,
   "id": "13967004",
   "metadata": {},
   "outputs": [],
   "source": [
    "\n",
    "# Info dataset\n",
    "print(\"Informasi dataset:\")\n",
    "data.info()\n",
    "\n",
    "# Statistik deskriptif\n",
    "print(\"\\nStatistik deskriptif:\")\n",
    "display(data.describe())\n"
   ]
  },
  {
   "cell_type": "markdown",
   "id": "46fbb32b",
   "metadata": {},
   "source": [
    "\n",
    "## 🤖 Clustering dengan K-Means  \n",
    "Kami akan menggunakan algoritma **K-Means** untuk mengelompokkan data berdasarkan fitur numerik.  \n",
    "Sebelumnya, data akan **dinormalisasi** menggunakan `StandardScaler` agar semua fitur memiliki skala yang sama.  \n"
   ]
  },
  {
   "cell_type": "code",
   "execution_count": null,
   "id": "aa6e6da2",
   "metadata": {},
   "outputs": [],
   "source": [
    "\n",
    "# Memilih kolom numerik untuk clustering\n",
    "numeric_columns = data.select_dtypes(include=['float64', 'int64']).columns.tolist()\n",
    "\n",
    "# Pastikan ada setidaknya dua kolom numerik\n",
    "if len(numeric_columns) >= 2:\n",
    "    selected_columns = numeric_columns[:2]  # Pilih 2 kolom pertama\n",
    "\n",
    "    # Menghapus nilai NaN jika ada\n",
    "    data_cleaned = data.dropna(subset=selected_columns)\n",
    "\n",
    "    # Normalisasi data\n",
    "    scaler = StandardScaler()\n",
    "    scaled_data = scaler.fit_transform(data_cleaned[selected_columns])\n",
    "\n",
    "    # K-Means Clustering dengan 3 klaster\n",
    "    kmeans = KMeans(n_clusters=3, random_state=42, n_init=10)\n",
    "    clusters = kmeans.fit_predict(scaled_data)\n",
    "\n",
    "    # Menambahkan hasil clustering ke dataset\n",
    "    data_cleaned[\"Cluster\"] = clusters\n",
    "\n",
    "    # Tampilkan hasil clustering\n",
    "    display(data_cleaned.head())\n",
    "\n",
    "    # Visualisasi Clustering\n",
    "    plt.figure(figsize=(8, 6))\n",
    "    sns.scatterplot(x=data_cleaned[selected_columns[0]], y=data_cleaned[selected_columns[1]], hue=data_cleaned[\"Cluster\"], palette=\"viridis\")\n",
    "    plt.title(f\"Visualisasi Clustering ({selected_columns[0]} vs {selected_columns[1]})\")\n",
    "    plt.show()\n",
    "else:\n",
    "    print(\"Dataset tidak memiliki cukup kolom numerik untuk clustering.\")\n"
   ]
  },
  {
   "cell_type": "markdown",
   "id": "decbb8bc",
   "metadata": {},
   "source": [
    "\n",
    "## 📊 Visualisasi Data  \n",
    "Kami akan membuat beberapa visualisasi data untuk memahami distribusi dan pola dalam dataset.  \n"
   ]
  },
  {
   "cell_type": "code",
   "execution_count": null,
   "id": "b19891b7",
   "metadata": {},
   "outputs": [],
   "source": [
    "\n",
    "# Pilih kolom numerik pertama untuk visualisasi\n",
    "if numeric_columns:\n",
    "    column = numeric_columns[0]\n",
    "\n",
    "    # Histogram\n",
    "    plt.figure(figsize=(8, 6))\n",
    "    sns.histplot(data[column], bins=30, kde=True, color=\"#00bcd4\")\n",
    "    plt.title(f\"Histogram dari {column}\")\n",
    "    plt.show()\n",
    "\n",
    "    # Box Plot\n",
    "    plt.figure(figsize=(8, 6))\n",
    "    sns.boxplot(x=data[column], color=\"#00bcd4\")\n",
    "    plt.title(f\"Box Plot dari {column}\")\n",
    "    plt.show()\n",
    "else:\n",
    "    print(\"Dataset tidak memiliki kolom numerik untuk visualisasi.\")\n"
   ]
  },
  {
   "cell_type": "markdown",
   "id": "8166ab2f",
   "metadata": {},
   "source": [
    "\n",
    "## ✅ Kesimpulan  \n",
    "- Dataset telah dieksplorasi dan dianalisis menggunakan metode statistik dan clustering.  \n",
    "- Hasil clustering dengan K-Means telah divisualisasikan untuk memahami pola dalam data.  \n",
    "- Visualisasi data membantu dalam memahami distribusi nilai dalam dataset.  \n",
    "\n",
    "**Langkah selanjutnya:**  \n",
    "📌 **Gunakan hasil analisis ini untuk membuat dashboard di Streamlit (`LatihanStreamlit.py`).**  \n"
   ]
  }
 ],
 "metadata": {},
 "nbformat": 4,
 "nbformat_minor": 5
}
